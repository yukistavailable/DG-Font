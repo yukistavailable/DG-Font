{
 "cells": [
  {
   "cell_type": "code",
   "execution_count": 5,
   "metadata": {},
   "outputs": [],
   "source": [
    "import pandas as pd\n",
    "import numpy as np\n",
    "import matplotlib.pyplot as plt\n",
    "import matplotlib.font_manager as fm\n",
    "import matplotlib as mpl\n",
    "import torch\n",
    "import random\n",
    "import os\n",
    "import json\n",
    "from tqdm import tqdm\n",
    "from collections import defaultdict"
   ]
  },
  {
   "cell_type": "code",
   "execution_count": 6,
   "metadata": {},
   "outputs": [],
   "source": [
    "with open('./japanese_characters.txt', 'r') as f:\n",
    "    chars = f.read()\n",
    "\n",
    "kanji_chars = chars[92:]"
   ]
  },
  {
   "cell_type": "code",
   "execution_count": 7,
   "metadata": {},
   "outputs": [],
   "source": [
    "## style font\n",
    "style_font_path = '../fonts/BIZUDPMincho-Regular.ttf'\n",
    "style_name = os.path.splitext(os.path.basename(style_font_path))[0]"
   ]
  },
  {
   "cell_type": "code",
   "execution_count": 33,
   "metadata": {},
   "outputs": [
    {
     "name": "stdout",
     "output_type": "stream",
     "text": [
      "慎 0.1619470224843085\n"
     ]
    }
   ],
   "source": [
    "## load loss dictionary\n",
    "with open(f'../statistic/loss_dictionary/{style_name}_kanji.json', 'r') as f:\n",
    "    all_loss_info = json.load(f)\n",
    "columns = list(all_loss_info.keys())\n",
    "index = list(kanji_chars)\n",
    "data = np.zeros((len(index), len(columns)))\n",
    "for i in range(len(columns)):\n",
    "    tmp_column = [info['L1'] for info in list(all_loss_info[columns[i]].values())]\n",
    "    data[:, i] = tmp_column\n",
    "best_char_index = np.argmin(np.sum(data, axis=0))\n",
    "best_char = kanji_chars[best_char_index]\n",
    "print(best_char, np.sum(data[:, best_char_index], axis=0)/ len(kanji_chars))"
   ]
  },
  {
   "cell_type": "code",
   "execution_count": 14,
   "metadata": {},
   "outputs": [
    {
     "name": "stdout",
     "output_type": "stream",
     "text": [
      "['燥璧', '燥噴', '僅燥', '矢燥', '皇燥', '燥塔', '幸燥', '燥稚', '虞燥', '燥諦']\n",
      "燥璧 0.14815201937641306\n"
     ]
    }
   ],
   "source": [
    "## load 2 combination\n",
    "result_dir_path = f'../statistic/loss_dictionary/{style_name}'\n",
    "result_file_path = os.path.join(result_dir_path, '2.json')\n",
    "with open(result_file_path, 'r') as f:\n",
    "    result_info = json.load(f)\n",
    "print(list(result_info.keys())[:10])\n",
    "\n",
    "## print loss amount\n",
    "best_chars = list(result_info.keys())[0]\n",
    "print(best_chars, result_info[best_chars]['loss_amount'] / len(kanji_chars))"
   ]
  },
  {
   "cell_type": "code",
   "execution_count": 15,
   "metadata": {},
   "outputs": [
    {
     "name": "stdout",
     "output_type": "stream",
     "text": [
      "['爆興薪妥', '鬼爆薪妥', '童爆薪工', '爆却換妥', '丹爆薪夕', '盾爆薪妥', '燥薪尽半', '題天薪午', '鬼薪賢午', '私爆換虚']\n",
      "爆興薪妥 0.14115085524955087\n"
     ]
    }
   ],
   "source": [
    "## load 4 combination\n",
    "result_dir_path = f'../statistic/loss_dictionary/{style_name}'\n",
    "result_file_path = os.path.join(result_dir_path, 'more_4_1000000.json')\n",
    "with open(result_file_path, 'r') as f:\n",
    "    result_info_four = json.load(f)\n",
    "print(list(result_info_four.keys())[:10])\n",
    "\n",
    "## print loss amount\n",
    "best_chars_four = list(result_info_four.keys())[0]\n",
    "print(best_chars_four, result_info_four[best_chars_four]['loss_amount'] / len(kanji_chars))"
   ]
  },
  {
   "cell_type": "code",
   "execution_count": null,
   "metadata": {},
   "outputs": [],
   "source": []
  }
 ],
 "metadata": {
  "kernelspec": {
   "display_name": "Python 3",
   "language": "python",
   "name": "python3"
  },
  "language_info": {
   "codemirror_mode": {
    "name": "ipython",
    "version": 3
   },
   "file_extension": ".py",
   "mimetype": "text/x-python",
   "name": "python",
   "nbconvert_exporter": "python",
   "pygments_lexer": "ipython3",
   "version": "3.7.3"
  }
 },
 "nbformat": 4,
 "nbformat_minor": 2
}
