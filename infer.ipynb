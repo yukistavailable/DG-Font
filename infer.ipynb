{
 "cells": [
  {
   "cell_type": "code",
   "execution_count": 9,
   "metadata": {},
   "outputs": [],
   "source": [
    "import argparse\n",
    "import warnings\n",
    "from datetime import datetime\n",
    "from glob import glob\n",
    "from shutil import copyfile\n",
    "from collections import OrderedDict\n",
    "from PIL import Image\n",
    "from IPython.display import display\n",
    "\n",
    "import torch\n",
    "from torchvision.transforms import Compose, Normalize, Resize, ToTensor\n",
    "from torchvision.transforms.functional import to_pil_image\n",
    "\n",
    "from models.generator import Generator as Generator\n",
    "from models.blocks import LinearBlock, LinearBlockMultipleLayers\n",
    "from tools.utils import *\n",
    "from main import clip_load_model\n",
    "\n",
    "from clipfont import clip\n",
    "\n",
    "clip_model_name = 'ViT-B/32'\n",
    "clip_model, clip_preprocess = clip.load(clip_model_name, device=\"cuda\")"
   ]
  },
  {
   "cell_type": "code",
   "execution_count": 2,
   "metadata": {},
   "outputs": [],
   "source": [
    "def get_transform(img_size=80, input_ch=1):\n",
    "  if input_ch == 1:\n",
    "      mean = [0.5]\n",
    "      std = [0.5]\n",
    "  else:\n",
    "      mean = [0.5, 0.5, 0.5]\n",
    "      std = [0.5, 0.5, 0.5]\n",
    "  \n",
    "  normalize = Normalize(mean=mean, std=std)\n",
    "  transform = Compose([Resize((img_size, img_size)),\n",
    "                        ToTensor(),\n",
    "                        normalize])\n",
    "  return transform\n",
    "\n",
    "transform = get_transform()"
   ]
  },
  {
   "cell_type": "code",
   "execution_count": 10,
   "metadata": {},
   "outputs": [],
   "source": [
    "def build_model(img_size=80, sty_dim=512, input_ch=1, device='cuda', use_linear_block=False):\n",
    "    networks = {}\n",
    "    networks['G'] = Generator(\n",
    "        img_size,\n",
    "        sty_dim,\n",
    "        use_sn=False,\n",
    "        device=device,\n",
    "        input_ch=input_ch,\n",
    "        output_ch=input_ch)\n",
    "    networks['G_EMA'] = Generator(\n",
    "        img_size,\n",
    "        sty_dim,\n",
    "        use_sn=False,\n",
    "        device=device,\n",
    "        input_ch=input_ch,\n",
    "        output_ch=input_ch)\n",
    "    if use_linear_block:\n",
    "        networks['L'] = LinearBlockMultipleLayers(\n",
    "            512,\n",
    "            sty_dim,\n",
    "            norm='none',\n",
    "            act='relu',\n",
    "            use_sn=False)\n",
    "\n",
    "    if device is not None:\n",
    "        # torch.cuda.set_device(args.device)\n",
    "        for name, net in networks.items():\n",
    "            # networks[name] = net.cuda(args.gpu)\n",
    "            # networks[name] = net.cuda(args.device)\n",
    "            networks[name] = net.to(device)\n",
    "    return networks"
   ]
  },
  {
   "cell_type": "code",
   "execution_count": 11,
   "metadata": {},
   "outputs": [],
   "source": [
    "def clip_load_model(\n",
    "    model,\n",
    "    checkpoint_path=None,\n",
    "    requires_grad=False,\n",
    "    device='cuda',\n",
    "    model_name='ViT-B/32',\n",
    "):\n",
    "    if checkpoint_path is None:\n",
    "        model, _ = clip.load(model_name, device=device, jit=False)\n",
    "    else:\n",
    "        checkpoint = torch.load(checkpoint_path, map_location=device)\n",
    "        model.load_state_dict(checkpoint[\"model_state_dict\"])\n",
    "\n",
    "    if not requires_grad:\n",
    "        for param in model.parameters():\n",
    "            param.requires_grad = False\n",
    "    return model\n",
    "\n",
    "def load_model(networks, checkpoint_path=None, log_dir=None):\n",
    "    if checkpoint_path is not None:\n",
    "        load_file_path = checkpoint_path\n",
    "    elif log_dir is not None:\n",
    "        check_load = open(os.path.join(log_dir, \"checkpoint.txt\"), 'r')\n",
    "        to_restore = check_load.readlines()[-1].strip()\n",
    "        load_file_path = os.path.join(log_dir, to_restore)\n",
    "    else:\n",
    "        print(\"=> no checkpoint found at '{}'\".format(log_dir))\n",
    "        return\n",
    "\n",
    "    if os.path.isfile(load_file_path):\n",
    "        print(\"=> loading checkpoint '{}'\".format(load_file_path))\n",
    "        checkpoint = torch.load(load_file_path, map_location='cpu')\n",
    "        for name, net in networks.items():\n",
    "            tmp_keys = next(\n",
    "                iter(checkpoint[name + '_state_dict'].keys()))\n",
    "            if 'module' in tmp_keys:\n",
    "                tmp_new_dict = OrderedDict()\n",
    "                for key, val in checkpoint[name +\n",
    "                                           '_state_dict'].items():\n",
    "                    tmp_new_dict[key[7:]] = val\n",
    "                net.load_state_dict(tmp_new_dict)\n",
    "                networks[name] = net\n",
    "            else:\n",
    "                if checkpoint[name + '_state_dict'] is not None:\n",
    "                    net.load_state_dict(checkpoint[name + '_state_dict'])\n",
    "                    networks[name] = net\n",
    "\n",
    "                print(\"=> loaded checkpoint '{}' (epoch {})\"\n",
    "                    .format(load_file_path, checkpoint['epoch']))"
   ]
  },
  {
   "cell_type": "code",
   "execution_count": 12,
   "metadata": {},
   "outputs": [],
   "source": [
    "# clip_model_path = '/home/yuki/learn-computer-vision/CLIPFont/model_checkpoints/best_mixed_ViT-B_32_9101191011_batch32_single_character_use_negative_use_negative_loss1e-06_lr2e-05-0.1.pt'\n",
    "clip_model_path = '/home/yuki/learn-computer-vision/CLIPFont/model_checkpoints/2_ViT-B_32_9101191011_batch64_aug250_use_negative_use_negative_loss1e-06_lr2e-05-0.1_image_file_dir.pt'\n",
    "clip_model = clip_load_model(clip_model, checkpoint_path=clip_model_path, device='cuda')"
   ]
  },
  {
   "cell_type": "code",
   "execution_count": 13,
   "metadata": {},
   "outputs": [
    {
     "name": "stdout",
     "output_type": "stream",
     "text": [
      "Init Generator\n",
      "GENERATOR NF :  64\n",
      "Init ContentEncoder\n",
      "Init Decoder\n",
      "Init Generator\n",
      "GENERATOR NF :  64\n",
      "Init ContentEncoder\n",
      "Init Decoder\n",
      "=> loading checkpoint './logs/GAN_20230904-215034/model_3.ckpt'\n",
      "=> loaded checkpoint './logs/GAN_20230904-215034/model_3.ckpt' (epoch 3)\n",
      "=> loaded checkpoint './logs/GAN_20230904-215034/model_3.ckpt' (epoch 3)\n"
     ]
    },
    {
     "ename": "RuntimeError",
     "evalue": "Error(s) in loading state_dict for LinearBlockMultipleLayers:\n\tMissing key(s) in state_dict: \"fc1.weight\", \"fc1.bias\", \"fc2.weight\", \"fc2.bias\". \n\tUnexpected key(s) in state_dict: \"fc.weight\", \"fc.bias\". ",
     "output_type": "error",
     "traceback": [
      "\u001b[0;31m---------------------------------------------------------------------------\u001b[0m",
      "\u001b[0;31mRuntimeError\u001b[0m                              Traceback (most recent call last)",
      "\u001b[0;32m/tmp/ipykernel_2509806/1731025197.py\u001b[0m in \u001b[0;36m<module>\u001b[0;34m\u001b[0m\n\u001b[1;32m      5\u001b[0m \u001b[0mlog_dir\u001b[0m \u001b[0;34m=\u001b[0m \u001b[0mos\u001b[0m\u001b[0;34m.\u001b[0m\u001b[0mpath\u001b[0m\u001b[0;34m.\u001b[0m\u001b[0mjoin\u001b[0m\u001b[0;34m(\u001b[0m\u001b[0;34m'./logs'\u001b[0m\u001b[0;34m,\u001b[0m \u001b[0mmodel_name\u001b[0m\u001b[0;34m)\u001b[0m\u001b[0;34m\u001b[0m\u001b[0;34m\u001b[0m\u001b[0m\n\u001b[1;32m      6\u001b[0m \u001b[0mcheckpoint_path\u001b[0m \u001b[0;34m=\u001b[0m \u001b[0mos\u001b[0m\u001b[0;34m.\u001b[0m\u001b[0mpath\u001b[0m\u001b[0;34m.\u001b[0m\u001b[0mjoin\u001b[0m\u001b[0;34m(\u001b[0m\u001b[0mlog_dir\u001b[0m\u001b[0;34m,\u001b[0m \u001b[0;34m'model_3.ckpt'\u001b[0m\u001b[0;34m)\u001b[0m\u001b[0;34m\u001b[0m\u001b[0;34m\u001b[0m\u001b[0m\n\u001b[0;32m----> 7\u001b[0;31m \u001b[0mload_model\u001b[0m\u001b[0;34m(\u001b[0m\u001b[0mnetworks\u001b[0m\u001b[0;34m,\u001b[0m \u001b[0mcheckpoint_path\u001b[0m\u001b[0;34m=\u001b[0m\u001b[0mcheckpoint_path\u001b[0m\u001b[0;34m)\u001b[0m\u001b[0;34m\u001b[0m\u001b[0;34m\u001b[0m\u001b[0m\n\u001b[0m\u001b[1;32m      8\u001b[0m \u001b[0;31m# load_model(networks, log_dir=log_dir)\u001b[0m\u001b[0;34m\u001b[0m\u001b[0;34m\u001b[0m\u001b[0;34m\u001b[0m\u001b[0m\n\u001b[1;32m      9\u001b[0m \u001b[0mG\u001b[0m \u001b[0;34m=\u001b[0m \u001b[0mnetworks\u001b[0m\u001b[0;34m[\u001b[0m\u001b[0;34m'G'\u001b[0m\u001b[0;34m]\u001b[0m\u001b[0;34m\u001b[0m\u001b[0;34m\u001b[0m\u001b[0m\n",
      "\u001b[0;32m/tmp/ipykernel_2509806/412484709.py\u001b[0m in \u001b[0;36mload_model\u001b[0;34m(networks, checkpoint_path, log_dir)\u001b[0m\n\u001b[1;32m     43\u001b[0m             \u001b[0;32melse\u001b[0m\u001b[0;34m:\u001b[0m\u001b[0;34m\u001b[0m\u001b[0;34m\u001b[0m\u001b[0m\n\u001b[1;32m     44\u001b[0m                 \u001b[0;32mif\u001b[0m \u001b[0mcheckpoint\u001b[0m\u001b[0;34m[\u001b[0m\u001b[0mname\u001b[0m \u001b[0;34m+\u001b[0m \u001b[0;34m'_state_dict'\u001b[0m\u001b[0;34m]\u001b[0m \u001b[0;32mis\u001b[0m \u001b[0;32mnot\u001b[0m \u001b[0;32mNone\u001b[0m\u001b[0;34m:\u001b[0m\u001b[0;34m\u001b[0m\u001b[0;34m\u001b[0m\u001b[0m\n\u001b[0;32m---> 45\u001b[0;31m                     \u001b[0mnet\u001b[0m\u001b[0;34m.\u001b[0m\u001b[0mload_state_dict\u001b[0m\u001b[0;34m(\u001b[0m\u001b[0mcheckpoint\u001b[0m\u001b[0;34m[\u001b[0m\u001b[0mname\u001b[0m \u001b[0;34m+\u001b[0m \u001b[0;34m'_state_dict'\u001b[0m\u001b[0;34m]\u001b[0m\u001b[0;34m)\u001b[0m\u001b[0;34m\u001b[0m\u001b[0;34m\u001b[0m\u001b[0m\n\u001b[0m\u001b[1;32m     46\u001b[0m                     \u001b[0mnetworks\u001b[0m\u001b[0;34m[\u001b[0m\u001b[0mname\u001b[0m\u001b[0;34m]\u001b[0m \u001b[0;34m=\u001b[0m \u001b[0mnet\u001b[0m\u001b[0;34m\u001b[0m\u001b[0;34m\u001b[0m\u001b[0m\n\u001b[1;32m     47\u001b[0m \u001b[0;34m\u001b[0m\u001b[0m\n",
      "\u001b[0;32m~/anaconda3/envs/dgfont-env/lib/python3.7/site-packages/torch/nn/modules/module.py\u001b[0m in \u001b[0;36mload_state_dict\u001b[0;34m(self, state_dict, strict)\u001b[0m\n\u001b[1;32m   1670\u001b[0m         \u001b[0;32mif\u001b[0m \u001b[0mlen\u001b[0m\u001b[0;34m(\u001b[0m\u001b[0merror_msgs\u001b[0m\u001b[0;34m)\u001b[0m \u001b[0;34m>\u001b[0m \u001b[0;36m0\u001b[0m\u001b[0;34m:\u001b[0m\u001b[0;34m\u001b[0m\u001b[0;34m\u001b[0m\u001b[0m\n\u001b[1;32m   1671\u001b[0m             raise RuntimeError('Error(s) in loading state_dict for {}:\\n\\t{}'.format(\n\u001b[0;32m-> 1672\u001b[0;31m                                self.__class__.__name__, \"\\n\\t\".join(error_msgs)))\n\u001b[0m\u001b[1;32m   1673\u001b[0m         \u001b[0;32mreturn\u001b[0m \u001b[0m_IncompatibleKeys\u001b[0m\u001b[0;34m(\u001b[0m\u001b[0mmissing_keys\u001b[0m\u001b[0;34m,\u001b[0m \u001b[0munexpected_keys\u001b[0m\u001b[0;34m)\u001b[0m\u001b[0;34m\u001b[0m\u001b[0;34m\u001b[0m\u001b[0m\n\u001b[1;32m   1674\u001b[0m \u001b[0;34m\u001b[0m\u001b[0m\n",
      "\u001b[0;31mRuntimeError\u001b[0m: Error(s) in loading state_dict for LinearBlockMultipleLayers:\n\tMissing key(s) in state_dict: \"fc1.weight\", \"fc1.bias\", \"fc2.weight\", \"fc2.bias\". \n\tUnexpected key(s) in state_dict: \"fc.weight\", \"fc.bias\". "
     ]
    }
   ],
   "source": [
    "sty_dim = 128\n",
    "use_linear_block = True\n",
    "networks = build_model(sty_dim=sty_dim, use_linear_block=use_linear_block)\n",
    "model_name = 'GAN_20230904-215034'\n",
    "log_dir = os.path.join('./logs', model_name)\n",
    "checkpoint_path = os.path.join(log_dir, 'model_3.ckpt')\n",
    "load_model(networks, checkpoint_path=checkpoint_path)\n",
    "# load_model(networks, log_dir=log_dir)\n",
    "G = networks['G']\n",
    "L = None\n",
    "if 'L' in networks:\n",
    "    print('load L')\n",
    "    L = networks['L']"
   ]
  },
  {
   "cell_type": "code",
   "execution_count": 14,
   "metadata": {},
   "outputs": [
    {
     "data": {
      "image/png": "[encoded data removed]",
      "text/plain": [
       "<PIL.PngImagePlugin.PngImageFile image mode=RGB size=400x200>"
      ]
     },
     "metadata": {},
     "output_type": "display_data"
    },
    {
     "data": {
      "image/png": "[encoded data removed]",
      "text/plain": [
       "<PIL.Image.Image image mode=RGB size=224x224>"
      ]
     },
     "metadata": {},
     "output_type": "display_data"
    },
    {
     "data": {
      "image/png": "[encoded data removed]",
      "text/plain": [
       "<PIL.Image.Image image mode=L size=80x80>"
      ]
     },
     "metadata": {},
     "output_type": "display_data"
    },
    {
     "data": {
      "image/png": "[encoded data removed]",
      "text/plain": [
       "<PIL.Image.Image image mode=L size=80x80>"
      ]
     },
     "metadata": {},
     "output_type": "display_data"
    }
   ],
   "source": [
    "## Style Image\n",
    "style_image_path = '../attributeData/grayscale_images/Roboto-MediumItalic.png'\n",
    "style_image_path = '../grayscale_images_200/id_6.png'\n",
    "# style_image_path = '../grayscale_images_200/id_3.png'\n",
    "# style_image_path = '../attributeData/grayscale_images/Arimo-Bold.png'\n",
    "style_image = Image.open(style_image_path)\n",
    "display(style_image)\n",
    "preprocessed_style_image = clip_preprocess(style_image).unsqueeze(0).to('cuda')\n",
    "display(to_pil_image(preprocessed_style_image[0]))\n",
    "\n",
    "## Content Image\n",
    "content_image_path = '../gwfonts-images-DG-Font/id_6/0001.png'\n",
    "content_image_path = '../gwfonts-images-DG-Font/id_0/0001.png'\n",
    "content_image = Image.open(content_image_path).convert('L')\n",
    "display(content_image)\n",
    "transformed_content_image = transform(content_image).unsqueeze(0).to('cuda')\n",
    "\n",
    "embedded_style_image = clip_model.encode_image(preprocessed_style_image).to(torch.float32)\n",
    "if use_linear_block:\n",
    "  embedded_style_image = L(embedded_style_image)\n",
    "c_src, skip1, skip2 = G.cnt_encoder(transformed_content_image)\n",
    "generated_image, _ = G.decode(c_src, embedded_style_image, skip1, skip2)\n",
    "display(to_pil_image(generated_image[0].cpu()))"
   ]
  },
  {
   "cell_type": "code",
   "execution_count": 15,
   "metadata": {},
   "outputs": [
    {
     "name": "stdout",
     "output_type": "stream",
     "text": [
      "=> loading checkpoint './logs/GAN_20230905-003713/model_1.ckpt'\n",
      "=> loaded checkpoint './logs/GAN_20230905-003713/model_1.ckpt' (epoch 1)\n",
      "=> loaded checkpoint './logs/GAN_20230905-003713/model_1.ckpt' (epoch 1)\n",
      "=> loaded checkpoint './logs/GAN_20230905-003713/model_1.ckpt' (epoch 1)\n"
     ]
    },
    {
     "data": {
      "image/png": "[encoded data removed]",
      "text/plain": [
       "<PIL.Image.Image image mode=L size=80x80>"
      ]
     },
     "metadata": {},
     "output_type": "display_data"
    },
    {
     "name": "stdout",
     "output_type": "stream",
     "text": [
      "=> loading checkpoint './logs/GAN_20230905-003713/model_2.ckpt'\n",
      "=> loaded checkpoint './logs/GAN_20230905-003713/model_2.ckpt' (epoch 2)\n",
      "=> loaded checkpoint './logs/GAN_20230905-003713/model_2.ckpt' (epoch 2)\n",
      "=> loaded checkpoint './logs/GAN_20230905-003713/model_2.ckpt' (epoch 2)\n"
     ]
    },
    {
     "data": {
      "image/png": "[encoded data removed]",
      "text/plain": [
       "<PIL.Image.Image image mode=L size=80x80>"
      ]
     },
     "metadata": {},
     "output_type": "display_data"
    },
    {
     "name": "stdout",
     "output_type": "stream",
     "text": [
      "=> loading checkpoint './logs/GAN_20230905-003713/model_3.ckpt'\n",
      "=> loaded checkpoint './logs/GAN_20230905-003713/model_3.ckpt' (epoch 3)\n",
      "=> loaded checkpoint './logs/GAN_20230905-003713/model_3.ckpt' (epoch 3)\n",
      "=> loaded checkpoint './logs/GAN_20230905-003713/model_3.ckpt' (epoch 3)\n"
     ]
    },
    {
     "data": {
      "image/png": "[encoded data removed]",
      "text/plain": [
       "<PIL.Image.Image image mode=L size=80x80>"
      ]
     },
     "metadata": {},
     "output_type": "display_data"
    },
    {
     "name": "stdout",
     "output_type": "stream",
     "text": [
      "=> loading checkpoint './logs/GAN_20230905-003713/model_4.ckpt'\n",
      "=> loaded checkpoint './logs/GAN_20230905-003713/model_4.ckpt' (epoch 4)\n",
      "=> loaded checkpoint './logs/GAN_20230905-003713/model_4.ckpt' (epoch 4)\n",
      "=> loaded checkpoint './logs/GAN_20230905-003713/model_4.ckpt' (epoch 4)\n"
     ]
    },
    {
     "data": {
      "image/png": "[encoded data removed]",
      "text/plain": [
       "<PIL.Image.Image image mode=L size=80x80>"
      ]
     },
     "metadata": {},
     "output_type": "display_data"
    },
    {
     "name": "stdout",
     "output_type": "stream",
     "text": [
      "=> loading checkpoint './logs/GAN_20230905-003713/model_5.ckpt'\n",
      "=> loaded checkpoint './logs/GAN_20230905-003713/model_5.ckpt' (epoch 5)\n",
      "=> loaded checkpoint './logs/GAN_20230905-003713/model_5.ckpt' (epoch 5)\n",
      "=> loaded checkpoint './logs/GAN_20230905-003713/model_5.ckpt' (epoch 5)\n"
     ]
    },
    {
     "data": {
      "image/png": "[encoded data removed]",
      "text/plain": [
       "<PIL.Image.Image image mode=L size=80x80>"
      ]
     },
     "metadata": {},
     "output_type": "display_data"
    },
    {
     "name": "stdout",
     "output_type": "stream",
     "text": [
      "=> loading checkpoint './logs/GAN_20230905-003713/model_6.ckpt'\n",
      "=> loaded checkpoint './logs/GAN_20230905-003713/model_6.ckpt' (epoch 6)\n",
      "=> loaded checkpoint './logs/GAN_20230905-003713/model_6.ckpt' (epoch 6)\n",
      "=> loaded checkpoint './logs/GAN_20230905-003713/model_6.ckpt' (epoch 6)\n"
     ]
    },
    {
     "data": {
      "image/png": "[encoded data removed]",
      "text/plain": [
       "<PIL.Image.Image image mode=L size=80x80>"
      ]
     },
     "metadata": {},
     "output_type": "display_data"
    },
    {
     "name": "stdout",
     "output_type": "stream",
     "text": [
      "=> loading checkpoint './logs/GAN_20230905-003713/model_7.ckpt'\n",
      "=> loaded checkpoint './logs/GAN_20230905-003713/model_7.ckpt' (epoch 7)\n",
      "=> loaded checkpoint './logs/GAN_20230905-003713/model_7.ckpt' (epoch 7)\n",
      "=> loaded checkpoint './logs/GAN_20230905-003713/model_7.ckpt' (epoch 7)\n"
     ]
    },
    {
     "data": {
      "image/png": "[encoded data removed]",
      "text/plain": [
       "<PIL.Image.Image image mode=L size=80x80>"
      ]
     },
     "metadata": {},
     "output_type": "display_data"
    },
    {
     "name": "stdout",
     "output_type": "stream",
     "text": [
      "=> loading checkpoint './logs/GAN_20230905-003713/model_8.ckpt'\n",
      "=> loaded checkpoint './logs/GAN_20230905-003713/model_8.ckpt' (epoch 8)\n",
      "=> loaded checkpoint './logs/GAN_20230905-003713/model_8.ckpt' (epoch 8)\n",
      "=> loaded checkpoint './logs/GAN_20230905-003713/model_8.ckpt' (epoch 8)\n"
     ]
    },
    {
     "data": {
      "image/png": "[encoded data removed]",
      "text/plain": [
       "<PIL.Image.Image image mode=L size=80x80>"
      ]
     },
     "metadata": {},
     "output_type": "display_data"
    },
    {
     "name": "stdout",
     "output_type": "stream",
     "text": [
      "=> loading checkpoint './logs/GAN_20230905-003713/model_9.ckpt'\n",
      "=> loaded checkpoint './logs/GAN_20230905-003713/model_9.ckpt' (epoch 9)\n",
      "=> loaded checkpoint './logs/GAN_20230905-003713/model_9.ckpt' (epoch 9)\n",
      "=> loaded checkpoint './logs/GAN_20230905-003713/model_9.ckpt' (epoch 9)\n"
     ]
    },
    {
     "data": {
      "image/png": "[encoded data removed]",
      "text/plain": [
       "<PIL.Image.Image image mode=L size=80x80>"
      ]
     },
     "metadata": {},
     "output_type": "display_data"
    },
    {
     "name": "stdout",
     "output_type": "stream",
     "text": [
      "=> loading checkpoint './logs/GAN_20230905-003713/model_10.ckpt'\n",
      "=> loaded checkpoint './logs/GAN_20230905-003713/model_10.ckpt' (epoch 10)\n",
      "=> loaded checkpoint './logs/GAN_20230905-003713/model_10.ckpt' (epoch 10)\n",
      "=> loaded checkpoint './logs/GAN_20230905-003713/model_10.ckpt' (epoch 10)\n"
     ]
    },
    {
     "data": {
      "image/png": "[encoded data removed]",
      "text/plain": [
       "<PIL.Image.Image image mode=L size=80x80>"
      ]
     },
     "metadata": {},
     "output_type": "display_data"
    },
    {
     "name": "stdout",
     "output_type": "stream",
     "text": [
      "=> loading checkpoint './logs/GAN_20230905-003713/model_11.ckpt'\n",
      "=> loaded checkpoint './logs/GAN_20230905-003713/model_11.ckpt' (epoch 11)\n",
      "=> loaded checkpoint './logs/GAN_20230905-003713/model_11.ckpt' (epoch 11)\n",
      "=> loaded checkpoint './logs/GAN_20230905-003713/model_11.ckpt' (epoch 11)\n"
     ]
    },
    {
     "data": {
      "image/png": "[encoded data removed]",
      "text/plain": [
       "<PIL.Image.Image image mode=L size=80x80>"
      ]
     },
     "metadata": {},
     "output_type": "display_data"
    },
    {
     "name": "stdout",
     "output_type": "stream",
     "text": [
      "=> loading checkpoint './logs/GAN_20230905-003713/model_12.ckpt'\n",
      "=> loaded checkpoint './logs/GAN_20230905-003713/model_12.ckpt' (epoch 12)\n",
      "=> loaded checkpoint './logs/GAN_20230905-003713/model_12.ckpt' (epoch 12)\n",
      "=> loaded checkpoint './logs/GAN_20230905-003713/model_12.ckpt' (epoch 12)\n"
     ]
    },
    {
     "data": {
      "image/png": "[encoded data removed]",
      "text/plain": [
       "<PIL.Image.Image image mode=L size=80x80>"
      ]
     },
     "metadata": {},
     "output_type": "display_data"
    },
    {
     "name": "stdout",
     "output_type": "stream",
     "text": [
      "=> loading checkpoint './logs/GAN_20230905-003713/model_13.ckpt'\n",
      "=> loaded checkpoint './logs/GAN_20230905-003713/model_13.ckpt' (epoch 13)\n",
      "=> loaded checkpoint './logs/GAN_20230905-003713/model_13.ckpt' (epoch 13)\n",
      "=> loaded checkpoint './logs/GAN_20230905-003713/model_13.ckpt' (epoch 13)\n"
     ]
    },
    {
     "data": {
      "image/png": "[encoded data removed]",
      "text/plain": [
       "<PIL.Image.Image image mode=L size=80x80>"
      ]
     },
     "metadata": {},
     "output_type": "display_data"
    },
    {
     "name": "stdout",
     "output_type": "stream",
     "text": [
      "=> loading checkpoint './logs/GAN_20230905-003713/model_14.ckpt'\n",
      "=> loaded checkpoint './logs/GAN_20230905-003713/model_14.ckpt' (epoch 14)\n",
      "=> loaded checkpoint './logs/GAN_20230905-003713/model_14.ckpt' (epoch 14)\n",
      "=> loaded checkpoint './logs/GAN_20230905-003713/model_14.ckpt' (epoch 14)\n"
     ]
    },
    {
     "data": {
      "image/png": "[encoded data removed]",
      "text/plain": [
       "<PIL.Image.Image image mode=L size=80x80>"
      ]
     },
     "metadata": {},
     "output_type": "display_data"
    },
    {
     "name": "stdout",
     "output_type": "stream",
     "text": [
      "=> loading checkpoint './logs/GAN_20230905-003713/model_15.ckpt'\n",
      "=> loaded checkpoint './logs/GAN_20230905-003713/model_15.ckpt' (epoch 15)\n",
      "=> loaded checkpoint './logs/GAN_20230905-003713/model_15.ckpt' (epoch 15)\n",
      "=> loaded checkpoint './logs/GAN_20230905-003713/model_15.ckpt' (epoch 15)\n"
     ]
    },
    {
     "data": {
      "image/png": "[encoded data removed]",
      "text/plain": [
       "<PIL.Image.Image image mode=L size=80x80>"
      ]
     },
     "metadata": {},
     "output_type": "display_data"
    },
    {
     "name": "stdout",
     "output_type": "stream",
     "text": [
      "=> loading checkpoint './logs/GAN_20230905-003713/model_16.ckpt'\n",
      "=> loaded checkpoint './logs/GAN_20230905-003713/model_16.ckpt' (epoch 16)\n",
      "=> loaded checkpoint './logs/GAN_20230905-003713/model_16.ckpt' (epoch 16)\n",
      "=> loaded checkpoint './logs/GAN_20230905-003713/model_16.ckpt' (epoch 16)\n"
     ]
    },
    {
     "data": {
      "image/png": "[encoded data removed]",
      "text/plain": [
       "<PIL.Image.Image image mode=L size=80x80>"
      ]
     },
     "metadata": {},
     "output_type": "display_data"
    },
    {
     "name": "stdout",
     "output_type": "stream",
     "text": [
      "=> loading checkpoint './logs/GAN_20230905-003713/model_17.ckpt'\n",
      "=> loaded checkpoint './logs/GAN_20230905-003713/model_17.ckpt' (epoch 17)\n",
      "=> loaded checkpoint './logs/GAN_20230905-003713/model_17.ckpt' (epoch 17)\n",
      "=> loaded checkpoint './logs/GAN_20230905-003713/model_17.ckpt' (epoch 17)\n"
     ]
    },
    {
     "data": {
      "image/png": "[encoded data removed]",
      "text/plain": [
       "<PIL.Image.Image image mode=L size=80x80>"
      ]
     },
     "metadata": {},
     "output_type": "display_data"
    },
    {
     "name": "stdout",
     "output_type": "stream",
     "text": [
      "=> loading checkpoint './logs/GAN_20230905-003713/model_18.ckpt'\n",
      "=> loaded checkpoint './logs/GAN_20230905-003713/model_18.ckpt' (epoch 18)\n",
      "=> loaded checkpoint './logs/GAN_20230905-003713/model_18.ckpt' (epoch 18)\n",
      "=> loaded checkpoint './logs/GAN_20230905-003713/model_18.ckpt' (epoch 18)\n"
     ]
    },
    {
     "data": {
      "image/png": "[encoded data removed]",
      "text/plain": [
       "<PIL.Image.Image image mode=L size=80x80>"
      ]
     },
     "metadata": {},
     "output_type": "display_data"
    },
    {
     "name": "stdout",
     "output_type": "stream",
     "text": [
      "=> loading checkpoint './logs/GAN_20230905-003713/model_19.ckpt'\n",
      "=> loaded checkpoint './logs/GAN_20230905-003713/model_19.ckpt' (epoch 19)\n",
      "=> loaded checkpoint './logs/GAN_20230905-003713/model_19.ckpt' (epoch 19)\n",
      "=> loaded checkpoint './logs/GAN_20230905-003713/model_19.ckpt' (epoch 19)\n"
     ]
    },
    {
     "data": {
      "image/png": "[encoded data removed]",
      "text/plain": [
       "<PIL.Image.Image image mode=L size=80x80>"
      ]
     },
     "metadata": {},
     "output_type": "display_data"
    },
    {
     "name": "stdout",
     "output_type": "stream",
     "text": [
      "=> loading checkpoint './logs/GAN_20230905-003713/model_20.ckpt'\n",
      "=> loaded checkpoint './logs/GAN_20230905-003713/model_20.ckpt' (epoch 20)\n",
      "=> loaded checkpoint './logs/GAN_20230905-003713/model_20.ckpt' (epoch 20)\n",
      "=> loaded checkpoint './logs/GAN_20230905-003713/model_20.ckpt' (epoch 20)\n"
     ]
    },
    {
     "data": {
      "image/png": "[encoded data removed]",
      "text/plain": [
       "<PIL.Image.Image image mode=L size=80x80>"
      ]
     },
     "metadata": {},
     "output_type": "display_data"
    },
    {
     "name": "stdout",
     "output_type": "stream",
     "text": [
      "=> loading checkpoint './logs/GAN_20230905-003713/model_21.ckpt'\n",
      "=> loaded checkpoint './logs/GAN_20230905-003713/model_21.ckpt' (epoch 21)\n",
      "=> loaded checkpoint './logs/GAN_20230905-003713/model_21.ckpt' (epoch 21)\n",
      "=> loaded checkpoint './logs/GAN_20230905-003713/model_21.ckpt' (epoch 21)\n"
     ]
    },
    {
     "data": {
      "image/png": "[encoded data removed]",
      "text/plain": [
       "<PIL.Image.Image image mode=L size=80x80>"
      ]
     },
     "metadata": {},
     "output_type": "display_data"
    },
    {
     "name": "stdout",
     "output_type": "stream",
     "text": [
      "=> loading checkpoint './logs/GAN_20230905-003713/model_22.ckpt'\n",
      "=> loaded checkpoint './logs/GAN_20230905-003713/model_22.ckpt' (epoch 22)\n",
      "=> loaded checkpoint './logs/GAN_20230905-003713/model_22.ckpt' (epoch 22)\n",
      "=> loaded checkpoint './logs/GAN_20230905-003713/model_22.ckpt' (epoch 22)\n"
     ]
    },
    {
     "data": {
      "image/png": "[encoded data removed]",
      "text/plain": [
       "<PIL.Image.Image image mode=L size=80x80>"
      ]
     },
     "metadata": {},
     "output_type": "display_data"
    },
    {
     "name": "stdout",
     "output_type": "stream",
     "text": [
      "=> loading checkpoint './logs/GAN_20230905-003713/model_23.ckpt'\n",
      "=> loaded checkpoint './logs/GAN_20230905-003713/model_23.ckpt' (epoch 23)\n",
      "=> loaded checkpoint './logs/GAN_20230905-003713/model_23.ckpt' (epoch 23)\n",
      "=> loaded checkpoint './logs/GAN_20230905-003713/model_23.ckpt' (epoch 23)\n"
     ]
    },
    {
     "data": {
      "image/png": "[encoded data removed]",
      "text/plain": [
       "<PIL.Image.Image image mode=L size=80x80>"
      ]
     },
     "metadata": {},
     "output_type": "display_data"
    }
   ],
   "source": [
    "model_name = 'GAN_20230904-154414'\n",
    "model_name = 'GAN_20230904-182524'\n",
    "model_name = 'GAN_20230904-215034'\n",
    "model_name = 'GAN_20230905-003713'\n",
    "log_dir = os.path.join('./logs', model_name)\n",
    "for i in range(1, 24):\n",
    "  checkpoint_path = os.path.join(log_dir, f'model_{i}.ckpt')\n",
    "  load_model(networks, checkpoint_path=checkpoint_path)\n",
    "  # load_model(networks, log_dir=log_dir)\n",
    "  G = networks['G']\n",
    "  embedded_style_image = clip_model.encode_image(preprocessed_style_image).to(torch.float32)\n",
    "  if use_linear_block:\n",
    "    L = networks['L']\n",
    "    embedded_style_image = L(embedded_style_image)\n",
    "  c_src, skip1, skip2 = G.cnt_encoder(transformed_content_image)\n",
    "  generated_image, _ = G.decode(c_src, embedded_style_image, skip1, skip2)\n",
    "  display(to_pil_image(generated_image[0].cpu()))"
   ]
  },
  {
   "cell_type": "code",
   "execution_count": null,
   "metadata": {},
   "outputs": [],
   "source": []
  }
 ],
 "metadata": {
  "kernelspec": {
   "display_name": "dgfont-env",
   "language": "python",
   "name": "python3"
  },
  "language_info": {
   "codemirror_mode": {
    "name": "ipython",
    "version": 3
   },
   "file_extension": ".py",
   "mimetype": "text/x-python",
   "name": "python",
   "nbconvert_exporter": "python",
   "pygments_lexer": "ipython3",
   "version": "3.7.16"
  },
  "orig_nbformat": 4
 },
 "nbformat": 4,
 "nbformat_minor": 2
}
