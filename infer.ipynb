{
 "cells": [
  {
   "cell_type": "code",
   "execution_count": 1,
   "metadata": {},
   "outputs": [],
   "source": [
    "import argparse\n",
    "import warnings\n",
    "from datetime import datetime\n",
    "from glob import glob\n",
    "from shutil import copyfile\n",
    "from collections import OrderedDict\n",
    "from PIL import Image\n",
    "from IPython.display import display\n",
    "\n",
    "import torch\n",
    "from torchvision.transforms import Compose, Normalize, Resize, ToTensor\n",
    "from torchvision.transforms.functional import to_pil_image\n",
    "\n",
    "from models.generator import Generator as Generator\n",
    "from tools.utils import *\n",
    "from main import clip_load_model\n",
    "\n",
    "from clipfont import clip\n",
    "\n",
    "clip_model_name = 'ViT-B/32'\n",
    "clip_model, clip_preprocess = clip.load(clip_model_name, device=\"cuda\")"
   ]
  },
  {
   "cell_type": "code",
   "execution_count": 2,
   "metadata": {},
   "outputs": [],
   "source": [
    "def get_transform(img_size=80, input_ch=1):\n",
    "  if input_ch == 1:\n",
    "      mean = [0.5]\n",
    "      std = [0.5]\n",
    "  else:\n",
    "      mean = [0.5, 0.5, 0.5]\n",
    "      std = [0.5, 0.5, 0.5]\n",
    "  \n",
    "  normalize = Normalize(mean=mean, std=std)\n",
    "  transform = Compose([Resize((img_size, img_size)),\n",
    "                        ToTensor(),\n",
    "                        normalize])\n",
    "  return transform\n",
    "\n",
    "transform = get_transform()"
   ]
  },
  {
   "cell_type": "code",
   "execution_count": 3,
   "metadata": {},
   "outputs": [],
   "source": [
    "def build_model(img_size=80, sty_dim=512, input_ch=1, device='cuda'):\n",
    "    networks = {}\n",
    "    networks['G'] = Generator(\n",
    "        img_size,\n",
    "        sty_dim,\n",
    "        use_sn=False,\n",
    "        device=device,\n",
    "        input_ch=input_ch,\n",
    "        output_ch=input_ch)\n",
    "    networks['G_EMA'] = Generator(\n",
    "        img_size,\n",
    "        sty_dim,\n",
    "        use_sn=False,\n",
    "        device=device,\n",
    "        input_ch=input_ch,\n",
    "        output_ch=input_ch)\n",
    "\n",
    "    if device is not None:\n",
    "        # torch.cuda.set_device(args.device)\n",
    "        for name, net in networks.items():\n",
    "            # networks[name] = net.cuda(args.gpu)\n",
    "            # networks[name] = net.cuda(args.device)\n",
    "            networks[name] = net.to(device)\n",
    "    return networks"
   ]
  },
  {
   "cell_type": "code",
   "execution_count": 4,
   "metadata": {},
   "outputs": [],
   "source": [
    "def clip_load_model(\n",
    "    model,\n",
    "    checkpoint_path=None,\n",
    "    requires_grad=False,\n",
    "    device='cuda',\n",
    "    model_name='ViT-B/32',\n",
    "):\n",
    "    if checkpoint_path is None:\n",
    "        model, _ = clip.load(model_name, device=device, jit=False)\n",
    "    else:\n",
    "        checkpoint = torch.load(checkpoint_path, map_location=device)\n",
    "        model.load_state_dict(checkpoint[\"model_state_dict\"])\n",
    "\n",
    "    if not requires_grad:\n",
    "        for param in model.parameters():\n",
    "            param.requires_grad = False\n",
    "    return model\n",
    "\n",
    "def load_model(networks, checkpoint_path=None, log_dir=None):\n",
    "    if checkpoint_path is not None:\n",
    "        load_file_path = checkpoint_path\n",
    "    elif log_dir is not None:\n",
    "        check_load = open(os.path.join(log_dir, \"checkpoint.txt\"), 'r')\n",
    "        to_restore = check_load.readlines()[-1].strip()\n",
    "        load_file_path = os.path.join(log_dir, to_restore)\n",
    "    else:\n",
    "        print(\"=> no checkpoint found at '{}'\".format(log_dir))\n",
    "        return\n",
    "\n",
    "    if os.path.isfile(load_file_path):\n",
    "        print(\"=> loading checkpoint '{}'\".format(load_file_path))\n",
    "        checkpoint = torch.load(load_file_path, map_location='cpu')\n",
    "        for name, net in networks.items():\n",
    "            tmp_keys = next(\n",
    "                iter(checkpoint[name + '_state_dict'].keys()))\n",
    "            if 'module' in tmp_keys:\n",
    "                tmp_new_dict = OrderedDict()\n",
    "                for key, val in checkpoint[name +\n",
    "                                           '_state_dict'].items():\n",
    "                    tmp_new_dict[key[7:]] = val\n",
    "                net.load_state_dict(tmp_new_dict)\n",
    "                networks[name] = net\n",
    "            else:\n",
    "                net.load_state_dict(checkpoint[name + '_state_dict'])\n",
    "                networks[name] = net\n",
    "\n",
    "        print(\"=> loaded checkpoint '{}' (epoch {})\"\n",
    "              .format(load_file_path, checkpoint['epoch']))"
   ]
  },
  {
   "cell_type": "code",
   "execution_count": 9,
   "metadata": {},
   "outputs": [
    {
     "name": "stdout",
     "output_type": "stream",
     "text": [
      "Init Generator\n",
      "GENERATOR NF :  64\n",
      "Init ContentEncoder\n",
      "Init Decoder\n",
      "Init Generator\n",
      "GENERATOR NF :  64\n",
      "Init ContentEncoder\n",
      "Init Decoder\n",
      "=> loading checkpoint './logs/GAN_20230903-141844/model_1.ckpt'\n",
      "=> loaded checkpoint './logs/GAN_20230903-141844/model_1.ckpt' (epoch 1)\n"
     ]
    }
   ],
   "source": [
    "networks = build_model()\n",
    "model_name = 'GAN_20230902-212445'\n",
    "model_name = 'GAN_20230903-141844'\n",
    "log_dir = os.path.join('./logs', model_name)\n",
    "checkpoint_path = os.path.join(log_dir, 'model_1.ckpt')\n",
    "load_model(networks, checkpoint_path=checkpoint_path)\n",
    "# load_model(networks, log_dir=log_dir)\n",
    "G = networks['G']"
   ]
  },
  {
   "cell_type": "code",
   "execution_count": 10,
   "metadata": {},
   "outputs": [],
   "source": [
    "clip_model_path = '/home/yuki/learn-computer-vision/CLIPFont/model_checkpoints/best_mixed_ViT-B_32_9101191011_batch32_single_character_use_negative_use_negative_loss1e-06_lr2e-05-0.1.pt'\n",
    "# clip_model_path = '/home/yuki/learn-computer-vision/CLIPFont/model_checkpoints/2_ViT-B_32_9101191011_batch64_aug250_use_negative_use_negative_loss1e-06_lr2e-05-0.1_image_file_dir.pt'\n",
    "clip_model = clip_load_model(clip_model, checkpoint_path=clip_model_path, device='cuda')"
   ]
  },
  {
   "cell_type": "code",
   "execution_count": 11,
   "metadata": {},
   "outputs": [
    {
     "data": {
      "image/png": "[encoded data removed]",
      "text/plain": [
       "<PIL.PngImagePlugin.PngImageFile image mode=RGB size=400x200>"
      ]
     },
     "metadata": {},
     "output_type": "display_data"
    },
    {
     "data": {
      "image/png": "[encoded data removed]",
      "text/plain": [
       "<PIL.Image.Image image mode=RGB size=224x224>"
      ]
     },
     "metadata": {},
     "output_type": "display_data"
    },
    {
     "data": {
      "image/png": "[encoded data removed]",
      "text/plain": [
       "<PIL.Image.Image image mode=L size=80x80>"
      ]
     },
     "metadata": {},
     "output_type": "display_data"
    },
    {
     "data": {
      "image/png": "[encoded data removed]",
      "text/plain": [
       "<PIL.Image.Image image mode=L size=80x80>"
      ]
     },
     "metadata": {},
     "output_type": "display_data"
    }
   ],
   "source": [
    "## Style Image\n",
    "style_image_path = '../attributeData/grayscale_images/Roboto-MediumItalic.png'\n",
    "# style_image_path = '../attributeData/grayscale_images/Arimo-Bold.png'\n",
    "style_image = Image.open(style_image_path)\n",
    "display(style_image)\n",
    "preprocessed_style_image = clip_preprocess(style_image).unsqueeze(0).to('cuda')\n",
    "display(to_pil_image(preprocessed_style_image[0]))\n",
    "\n",
    "## Content Image\n",
    "content_image_path = '../gwfonts-images-DG-Font/id_0/0000.png'\n",
    "content_image = Image.open(content_image_path).convert('L')\n",
    "display(content_image)\n",
    "transformed_content_image = transform(content_image).unsqueeze(0).to('cuda')\n",
    "display(to_pil_image(transformed_content_image[0]))"
   ]
  },
  {
   "cell_type": "code",
   "execution_count": 12,
   "metadata": {},
   "outputs": [
    {
     "data": {
      "image/png": "[encoded data removed]",
      "text/plain": [
       "<PIL.Image.Image image mode=L size=80x80>"
      ]
     },
     "metadata": {},
     "output_type": "display_data"
    }
   ],
   "source": [
    "embedded_style_image = clip_model.encode_image(preprocessed_style_image).to(torch.float32)\n",
    "c_src, skip1, skip2 = G.cnt_encoder(transformed_content_image)\n",
    "generated_image, _ = G.decode(c_src, embedded_style_image, skip1, skip2)\n",
    "display(to_pil_image(generated_image[0].cpu()))"
   ]
  },
  {
   "cell_type": "code",
   "execution_count": 13,
   "metadata": {},
   "outputs": [
    {
     "data": {
      "text/plain": [
       "tensor([[[[1.0000, 1.0000, 1.0000,  ..., 0.9998, 0.9991, 0.9983],\n",
       "          [1.0000, 1.0000, 1.0000,  ..., 1.0000, 0.9998, 0.9995],\n",
       "          [1.0000, 1.0000, 1.0000,  ..., 1.0000, 0.9998, 0.9996],\n",
       "          ...,\n",
       "          [1.0000, 1.0000, 0.9999,  ..., 0.9999, 0.9997, 0.9991],\n",
       "          [1.0000, 1.0000, 1.0000,  ..., 1.0000, 0.9998, 0.9995],\n",
       "          [1.0000, 1.0000, 1.0000,  ..., 1.0000, 0.9998, 0.9996]]]],\n",
       "       device='cuda:0', grad_fn=<TanhBackward0>)"
      ]
     },
     "execution_count": 13,
     "metadata": {},
     "output_type": "execute_result"
    }
   ],
   "source": [
    "generated_image"
   ]
  },
  {
   "cell_type": "code",
   "execution_count": null,
   "metadata": {},
   "outputs": [],
   "source": []
  }
 ],
 "metadata": {
  "kernelspec": {
   "display_name": "dgfont-env",
   "language": "python",
   "name": "python3"
  },
  "language_info": {
   "codemirror_mode": {
    "name": "ipython",
    "version": 3
   },
   "file_extension": ".py",
   "mimetype": "text/x-python",
   "name": "python",
   "nbconvert_exporter": "python",
   "pygments_lexer": "ipython3",
   "version": "3.7.16"
  },
  "orig_nbformat": 4
 },
 "nbformat": 4,
 "nbformat_minor": 2
}
