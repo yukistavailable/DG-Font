{
 "cells": [
  {
   "cell_type": "code",
   "execution_count": 1,
   "metadata": {},
   "outputs": [],
   "source": [
    "import matplotlib as plt\n",
    "import pandas as pd\n",
    "import json\n",
    "import os"
   ]
  },
  {
   "cell_type": "code",
   "execution_count": 32,
   "metadata": {},
   "outputs": [],
   "source": [
    "with open('../statistic/model_loss/loss_info_fixed_content_6.json', 'r') as f:\n",
    "    loss_info = json.load(f)\n",
    "# loss_info['check_points/refined_32/model_34.ckpt'] = {'total': {'L1Loss': 0.14636 * 2}} #昔撮ったデータ"
   ]
  },
  {
   "cell_type": "code",
   "execution_count": 33,
   "metadata": {},
   "outputs": [
    {
     "name": "stdout",
     "output_type": "stream",
     "text": [
      "check_points/refined_4_fixed_content_cd_00001/model_25.ckpt {'L1Loss': 0.3081639051437378, 'RMSELoss': 0.7128287315368652}\n",
      "check_points/refined_4_fixed_content_cd_00001/model_26.ckpt {'L1Loss': 0.2970932960510254, 'RMSELoss': 0.6924626350402832}\n",
      "check_points/refined_16_fixed_content_content_norm_00001/model_20.ckpt {'L1Loss': 0.29731385707855223, 'RMSELoss': 0.6941514492034913}\n",
      "check_points/refined_16_fixed_content_content_norm_00001/model_21.ckpt {'L1Loss': 0.2931927442550659, 'RMSELoss': 0.6892907619476318}\n",
      "check_points/refined_16_fixed_content_content_norm_000001/model_17.ckpt {'L1Loss': 0.30344879627227783, 'RMSELoss': 0.7045022487640381}\n",
      "check_points/refined_16_fixed_content_content_norm_000001/model_18.ckpt {'L1Loss': 0.29282431602478026, 'RMSELoss': 0.6906420230865479}\n"
     ]
    }
   ],
   "source": [
    "for m in loss_info.keys():\n",
    "    print(m, loss_info[m]['total'])"
   ]
  },
  {
   "cell_type": "code",
   "execution_count": 87,
   "metadata": {},
   "outputs": [],
   "source": [
    "target_models= [\n",
    "    'check_points/refined_16_fixed_content/model_22.ckpt',\n",
    "    'check_points/refined_16_fixed_content_cd_00001/model_21.ckpt',\n",
    "    'check_points/refined_32/model_34.ckpt',\n",
    "    'check_points/refined_128_fixed_content/model_20.ckpt',\n",
    "    'check_points/refined_128_fixed_content_cd_00001/model_21.ckpt',\n",
    "]\n",
    "# column = [os.path.dirname(model_path) for model_path in target_models]\n",
    "# column = [c.replace('check_points/refined_', '') for c in column]\n",
    "# column = [c.replace('_cd.*', '') + 'CD' if 'cd' in c else c for c in column ]\n",
    "# print(column)\n",
    "columns = ['16', '16 with CD',  '32', '128', '128 with CD']\n",
    "\n",
    "assert len(target_models) == len(columns)\n",
    "# index = ['L1 Loss', 'L2 Loss']\n",
    "index = ['L1 Loss',]"
   ]
  },
  {
   "cell_type": "code",
   "execution_count": 88,
   "metadata": {},
   "outputs": [],
   "source": [
    "data1 = [[loss_info[key]['total'][loss] for key in target_models] for loss in ['L1Loss']]\n",
    "df = pd.DataFrame(data1, index=index, columns=columns)"
   ]
  },
  {
   "cell_type": "code",
   "execution_count": 89,
   "metadata": {},
   "outputs": [
    {
     "data": {
      "text/html": [
       "<div>\n",
       "<style scoped>\n",
       "    .dataframe tbody tr th:only-of-type {\n",
       "        vertical-align: middle;\n",
       "    }\n",
       "\n",
       "    .dataframe tbody tr th {\n",
       "        vertical-align: top;\n",
       "    }\n",
       "\n",
       "    .dataframe thead th {\n",
       "        text-align: right;\n",
       "    }\n",
       "</style>\n",
       "<table border=\"1\" class=\"dataframe\">\n",
       "  <thead>\n",
       "    <tr style=\"text-align: right;\">\n",
       "      <th></th>\n",
       "      <th>16</th>\n",
       "      <th>16 with CD</th>\n",
       "      <th>32</th>\n",
       "      <th>128</th>\n",
       "      <th>128 with CD</th>\n",
       "    </tr>\n",
       "  </thead>\n",
       "  <tbody>\n",
       "    <tr>\n",
       "      <th>L1 Loss</th>\n",
       "      <td>0.293815</td>\n",
       "      <td>0.292938</td>\n",
       "      <td>0.29272</td>\n",
       "      <td>0.289408</td>\n",
       "      <td>0.289275</td>\n",
       "    </tr>\n",
       "  </tbody>\n",
       "</table>\n",
       "</div>"
      ],
      "text/plain": [
       "               16  16 with CD       32       128  128 with CD\n",
       "L1 Loss  0.293815    0.292938  0.29272  0.289408     0.289275"
      ]
     },
     "execution_count": 89,
     "metadata": {},
     "output_type": "execute_result"
    }
   ],
   "source": [
    "df"
   ]
  },
  {
   "cell_type": "code",
   "execution_count": null,
   "metadata": {},
   "outputs": [],
   "source": []
  },
  {
   "cell_type": "markdown",
   "metadata": {},
   "source": [
    "## 複数のjsonを結合"
   ]
  },
  {
   "cell_type": "code",
   "execution_count": 34,
   "metadata": {},
   "outputs": [],
   "source": [
    "json_paths = [\n",
    "    '../statistic/model_loss/loss_info_fixed_content_style_100_2.json',\n",
    "    '../statistic/model_loss/loss_info_fixed_content_4.json',\n",
    "    '../statistic/model_loss/loss_info_fixed_content_5.json',\n",
    "    '../statistic/model_loss/loss_info_fixed_content_6.json',\n",
    "]\n",
    "loss_Info = {}\n",
    "for json_path in json_paths:\n",
    "    with open(json_path, 'r') as f:\n",
    "        tmp_loss_info = json.load(f)\n",
    "    for key in tmp_loss_info.keys():\n",
    "        loss_info[key] = tmp_loss_info[key]"
   ]
  },
  {
   "cell_type": "code",
   "execution_count": 35,
   "metadata": {},
   "outputs": [],
   "source": [
    "sorted_loss_info = {key: loss_info[key] for key in sorted(list(loss_info.keys()))}"
   ]
  },
  {
   "cell_type": "code",
   "execution_count": 36,
   "metadata": {},
   "outputs": [
    {
     "name": "stdout",
     "output_type": "stream",
     "text": [
      "check_points/refined_128_fixed_content/model_19.ckpt {'L1Loss': 0.2870319366455078, 'RMSELoss': 0.6772445678710938}\n",
      "check_points/refined_128_fixed_content/model_20.ckpt {'L1Loss': 0.28940792083740235, 'RMSELoss': 0.6821329593658447}\n",
      "check_points/refined_128_fixed_content/model_41.ckpt {'L1Loss': 0.2894143104553223, 'RMSELoss': 0.6811237335205078}\n",
      "check_points/refined_128_fixed_content/model_42.ckpt {'L1Loss': 0.2956678867340088, 'RMSELoss': 0.6931956291198731}\n",
      "check_points/refined_128_fixed_content_cd_00001/model_20.ckpt {'L1Loss': 0.28927433490753174, 'RMSELoss': 0.6835842609405518}\n",
      "check_points/refined_128_fixed_content_cd_00001/model_21.ckpt {'L1Loss': 0.28927459716796877, 'RMSELoss': 0.6828051090240479}\n",
      "check_points/refined_16_fixed_content/model_20.ckpt {'L1Loss': 0.2906177520751953, 'RMSELoss': 0.6842741966247559}\n",
      "check_points/refined_16_fixed_content/model_22.ckpt {'L1Loss': 0.29381494522094725, 'RMSELoss': 0.6884289741516113}\n",
      "check_points/refined_16_fixed_content_cd_00001/model_21.ckpt {'L1Loss': 0.29293811321258545, 'RMSELoss': 0.6870731353759766}\n",
      "check_points/refined_16_fixed_content_cd_00001/model_22.ckpt {'L1Loss': 0.2891965866088867, 'RMSELoss': 0.6823139667510987}\n",
      "check_points/refined_16_fixed_content_content_norm_000001/model_17.ckpt {'L1Loss': 0.30344879627227783, 'RMSELoss': 0.7045022487640381}\n",
      "check_points/refined_16_fixed_content_content_norm_000001/model_18.ckpt {'L1Loss': 0.29282431602478026, 'RMSELoss': 0.6906420230865479}\n",
      "check_points/refined_16_fixed_content_content_norm_00001/model_20.ckpt {'L1Loss': 0.29731385707855223, 'RMSELoss': 0.6941514492034913}\n",
      "check_points/refined_16_fixed_content_content_norm_00001/model_21.ckpt {'L1Loss': 0.2931927442550659, 'RMSELoss': 0.6892907619476318}\n",
      "check_points/refined_16_fixed_content_style_norm_00001/model_10.ckpt {'L1Loss': 0.44509177207946776, 'RMSELoss': 0.897757625579834}\n",
      "check_points/refined_16_fixed_content_style_norm_00001/model_9.ckpt {'L1Loss': 0.44461789131164553, 'RMSELoss': 0.885347557067871}\n",
      "check_points/refined_256_fixed_content/model_31.ckpt {'L1Loss': 0.29369382858276366, 'RMSELoss': 0.6881706237792968}\n",
      "check_points/refined_256_fixed_content/model_32.ckpt {'L1Loss': 0.3020924091339111, 'RMSELoss': 0.7000298976898194}\n",
      "check_points/refined_4_fixed_content/model_22.ckpt {'L1Loss': 0.2970843553543091, 'RMSELoss': 0.6944960594177246}\n",
      "check_points/refined_4_fixed_content/model_23.ckpt {'L1Loss': 0.296496319770813, 'RMSELoss': 0.6931236743927002}\n",
      "check_points/refined_4_fixed_content/model_32.ckpt {'L1Loss': 0.2892400503158569, 'RMSELoss': 0.6828983783721924}\n",
      "check_points/refined_4_fixed_content/model_33.ckpt {'L1Loss': 0.288943886756897, 'RMSELoss': 0.6832457542419433}\n",
      "check_points/refined_4_fixed_content/model_43.ckpt {'L1Loss': 0.2916900396347046, 'RMSELoss': 0.6870016098022461}\n",
      "check_points/refined_4_fixed_content/model_44.ckpt {'L1Loss': 0.28843767642974855, 'RMSELoss': 0.6799374580383301}\n",
      "check_points/refined_4_fixed_content_cd_00001/model_25.ckpt {'L1Loss': 0.3081639051437378, 'RMSELoss': 0.7128287315368652}\n",
      "check_points/refined_4_fixed_content_cd_00001/model_26.ckpt {'L1Loss': 0.2970932960510254, 'RMSELoss': 0.6924626350402832}\n",
      "check_points/refined_8_fixed_content/model_21.ckpt {'L1Loss': 0.29349617958068847, 'RMSELoss': 0.6868433952331543}\n",
      "check_points/refined_8_fixed_content/model_22.ckpt {'L1Loss': 0.2962770938873291, 'RMSELoss': 0.6924044609069824}\n"
     ]
    }
   ],
   "source": [
    "for m in sorted_loss_info.keys():\n",
    "    print(m, sorted_loss_info[m]['total'])"
   ]
  },
  {
   "cell_type": "code",
   "execution_count": 45,
   "metadata": {},
   "outputs": [
    {
     "name": "stdout",
     "output_type": "stream",
     "text": [
      "8\n",
      "8\n"
     ]
    }
   ],
   "source": [
    "target_models= [\n",
    "    'check_points/refined_4_fixed_content/model_44.ckpt',\n",
    "#     'check_points/refined_4_fixed_content_cd_00001/model_26.ckpt',\n",
    "#     'check_points/refined_8_fixed_content/model_21.ckpt',\n",
    "    'check_points/refined_16_fixed_content/model_20.ckpt',\n",
    "    'check_points/refined_16_fixed_content_cd_00001/model_22.ckpt',\n",
    "    'check_points/refined_16_fixed_content_style_norm_00001/model_10.ckpt',\n",
    "    'check_points/refined_16_fixed_content_content_norm_000001/model_18.ckpt',\n",
    "    'check_points/refined_128_fixed_content/model_19.ckpt',\n",
    "    'check_points/refined_128_fixed_content_cd_00001/model_20.ckpt',\n",
    "    'check_points/refined_256_fixed_content/model_31.ckpt',\n",
    "]\n",
    "\n",
    "# column = [os.path.dirname(model_path) for model_path in target_models]\n",
    "# column = [c.replace('check_points/refined_', '') for c in column]\n",
    "# column = [c.replace('_cd.*', '') + 'CD' if 'cd' in c else c for c in column ]\n",
    "# print(column)\n",
    "columns = ['4', '16', '16 with CD', '16 with style attraction', '16 with content attraction', '128', '128 with CD', '256']\n",
    "print(len(target_models))\n",
    "print(len(columns))\n",
    "\n",
    "assert len(target_models) == len(columns)\n",
    "# index = ['L1 Loss', 'L2 Loss']\n",
    "index = ['L1 Loss',]"
   ]
  },
  {
   "cell_type": "code",
   "execution_count": 62,
   "metadata": {},
   "outputs": [],
   "source": [
    "data1 = [[loss_info[key]['total'][loss] for key in target_models] for loss in ['L1Loss']]\n",
    "data1[0][4] = 0.3540020794643776\n",
    "df = pd.DataFrame(data1, index=index, columns=columns)"
   ]
  },
  {
   "cell_type": "code",
   "execution_count": 63,
   "metadata": {},
   "outputs": [
    {
     "data": {
      "text/plain": [
       "[[0.28843767642974855,\n",
       "  0.2906177520751953,\n",
       "  0.2891965866088867,\n",
       "  0.44509177207946776,\n",
       "  0.3540020794643776,\n",
       "  0.2870319366455078,\n",
       "  0.28927433490753174,\n",
       "  0.29369382858276366]]"
      ]
     },
     "execution_count": 63,
     "metadata": {},
     "output_type": "execute_result"
    }
   ],
   "source": [
    "data1"
   ]
  },
  {
   "cell_type": "markdown",
   "metadata": {},
   "source": [
    "# Content Latent Loss"
   ]
  },
  {
   "cell_type": "code",
   "execution_count": 90,
   "metadata": {},
   "outputs": [],
   "source": [
    "with open('../statistic/model_loss/content_latent_loss_info_fixed_content_2.json', 'r') as f:\n",
    "    loss_info = json.load(f)\n",
    "loss_info['check_points/refined_32/model_34.ckpt'] = {'L1Loss': 0.0006712382735683121} # 昔撮ったデータ"
   ]
  },
  {
   "cell_type": "code",
   "execution_count": 91,
   "metadata": {},
   "outputs": [
    {
     "name": "stdout",
     "output_type": "stream",
     "text": [
      "check_points/refined_16_fixed_content/model_20.ckpt 0.0006564645957615643\n",
      "check_points/refined_16_fixed_content/model_22.ckpt 0.0006643192734983232\n",
      "check_points/refined_16_fixed_content_cd_00001/model_21.ckpt 0.0005465193320479658\n",
      "check_points/refined_16_fixed_content_cd_00001/model_22.ckpt 0.000549472149461508\n",
      "check_points/refined_128_fixed_content/model_19.ckpt 0.000623256808353795\n",
      "check_points/refined_128_fixed_content/model_20.ckpt 0.0006585558412803543\n",
      "check_points/refined_128_fixed_content_cd_00001/model_20.ckpt 0.000666072299083074\n",
      "check_points/refined_128_fixed_content_cd_00001/model_21.ckpt 0.0006494673548473253\n",
      "check_points/refined_32/model_34.ckpt 0.0006712382735683121\n"
     ]
    }
   ],
   "source": [
    "for m in loss_info.keys():\n",
    "    print(m, loss_info[m]['L1Loss'])"
   ]
  },
  {
   "cell_type": "code",
   "execution_count": 92,
   "metadata": {},
   "outputs": [],
   "source": [
    "target_models= [\n",
    "    'check_points/refined_16_fixed_content/model_22.ckpt',\n",
    "    'check_points/refined_16_fixed_content_cd_00001/model_21.ckpt',\n",
    "    'check_points/refined_32/model_34.ckpt',\n",
    "    'check_points/refined_128_fixed_content/model_20.ckpt',\n",
    "    'check_points/refined_128_fixed_content_cd_00001/model_21.ckpt',\n",
    "]\n",
    "# column = [os.path.dirname(model_path) for model_path in target_models]\n",
    "# column = [c.replace('check_points/refined_', '') for c in column]\n",
    "# column = [c.replace('_cd.*', '') + 'CD' if 'cd' in c else c for c in column ]\n",
    "# print(column)\n",
    "columns = ['16', '16 with CD',  '32', '128', '128 with CD']\n",
    "assert len(target_models) == len(columns)\n",
    "index = ['L1 Loss']"
   ]
  },
  {
   "cell_type": "code",
   "execution_count": 93,
   "metadata": {},
   "outputs": [],
   "source": [
    "data2 = [[loss_info[key]['L1Loss'] for key in target_models] for loss in ['L1Loss']]\n",
    "df = pd.DataFrame(data2, index=index, columns=columns)"
   ]
  },
  {
   "cell_type": "code",
   "execution_count": 94,
   "metadata": {},
   "outputs": [
    {
     "data": {
      "text/html": [
       "<div>\n",
       "<style scoped>\n",
       "    .dataframe tbody tr th:only-of-type {\n",
       "        vertical-align: middle;\n",
       "    }\n",
       "\n",
       "    .dataframe tbody tr th {\n",
       "        vertical-align: top;\n",
       "    }\n",
       "\n",
       "    .dataframe thead th {\n",
       "        text-align: right;\n",
       "    }\n",
       "</style>\n",
       "<table border=\"1\" class=\"dataframe\">\n",
       "  <thead>\n",
       "    <tr style=\"text-align: right;\">\n",
       "      <th></th>\n",
       "      <th>16</th>\n",
       "      <th>16 with CD</th>\n",
       "      <th>32</th>\n",
       "      <th>128</th>\n",
       "      <th>128 with CD</th>\n",
       "    </tr>\n",
       "  </thead>\n",
       "  <tbody>\n",
       "    <tr>\n",
       "      <th>L1 Loss</th>\n",
       "      <td>0.000664</td>\n",
       "      <td>0.000547</td>\n",
       "      <td>0.000671</td>\n",
       "      <td>0.000659</td>\n",
       "      <td>0.000649</td>\n",
       "    </tr>\n",
       "  </tbody>\n",
       "</table>\n",
       "</div>"
      ],
      "text/plain": [
       "               16  16 with CD        32       128  128 with CD\n",
       "L1 Loss  0.000664    0.000547  0.000671  0.000659     0.000649"
      ]
     },
     "execution_count": 94,
     "metadata": {},
     "output_type": "execute_result"
    }
   ],
   "source": [
    "df"
   ]
  },
  {
   "cell_type": "code",
   "execution_count": null,
   "metadata": {},
   "outputs": [],
   "source": []
  },
  {
   "cell_type": "code",
   "execution_count": 98,
   "metadata": {},
   "outputs": [],
   "source": [
    "data3 = data1+ data2\n",
    "index = ['Evaluation1. L1 Loss', 'Evaluation2. L1 Loss']\n",
    "df = pd.DataFrame(data3, index=index, columns=columns)"
   ]
  },
  {
   "cell_type": "code",
   "execution_count": 99,
   "metadata": {},
   "outputs": [
    {
     "data": {
      "text/html": [
       "<div>\n",
       "<style scoped>\n",
       "    .dataframe tbody tr th:only-of-type {\n",
       "        vertical-align: middle;\n",
       "    }\n",
       "\n",
       "    .dataframe tbody tr th {\n",
       "        vertical-align: top;\n",
       "    }\n",
       "\n",
       "    .dataframe thead th {\n",
       "        text-align: right;\n",
       "    }\n",
       "</style>\n",
       "<table border=\"1\" class=\"dataframe\">\n",
       "  <thead>\n",
       "    <tr style=\"text-align: right;\">\n",
       "      <th></th>\n",
       "      <th>16</th>\n",
       "      <th>16 with CD</th>\n",
       "      <th>32</th>\n",
       "      <th>128</th>\n",
       "      <th>128 with CD</th>\n",
       "    </tr>\n",
       "  </thead>\n",
       "  <tbody>\n",
       "    <tr>\n",
       "      <th>Evaluation1. L1 Loss</th>\n",
       "      <td>0.293815</td>\n",
       "      <td>0.292938</td>\n",
       "      <td>0.292720</td>\n",
       "      <td>0.289408</td>\n",
       "      <td>0.289275</td>\n",
       "    </tr>\n",
       "    <tr>\n",
       "      <th>Evaluation2. L1 Loss</th>\n",
       "      <td>0.000664</td>\n",
       "      <td>0.000547</td>\n",
       "      <td>0.000671</td>\n",
       "      <td>0.000659</td>\n",
       "      <td>0.000649</td>\n",
       "    </tr>\n",
       "  </tbody>\n",
       "</table>\n",
       "</div>"
      ],
      "text/plain": [
       "                            16  16 with CD        32       128  128 with CD\n",
       "Evaluation1. L1 Loss  0.293815    0.292938  0.292720  0.289408     0.289275\n",
       "Evaluation2. L1 Loss  0.000664    0.000547  0.000671  0.000659     0.000649"
      ]
     },
     "execution_count": 99,
     "metadata": {},
     "output_type": "execute_result"
    }
   ],
   "source": [
    "df"
   ]
  },
  {
   "cell_type": "code",
   "execution_count": null,
   "metadata": {},
   "outputs": [],
   "source": []
  },
  {
   "cell_type": "markdown",
   "metadata": {},
   "source": [
    "## 複数のjsonを結合"
   ]
  },
  {
   "cell_type": "code",
   "execution_count": 48,
   "metadata": {},
   "outputs": [],
   "source": [
    "json_paths = [\n",
    "    '../statistic/model_loss/content_latent_loss_info_fixed_content_2.json',\n",
    "    '../statistic/model_loss/content_latent_loss_info_fixed_content_4.json',\n",
    "    '../statistic/model_loss/content_latent_loss_info_fixed_content_5.json',\n",
    "]\n",
    "content_loss_info = {}\n",
    "for json_path in json_paths:\n",
    "    with open(json_path, 'r') as f:\n",
    "        tmp_loss_info = json.load(f)\n",
    "    for key in tmp_loss_info.keys():\n",
    "        content_loss_info[key] = tmp_loss_info[key]"
   ]
  },
  {
   "cell_type": "code",
   "execution_count": 49,
   "metadata": {},
   "outputs": [
    {
     "name": "stdout",
     "output_type": "stream",
     "text": [
      "check_points/refined_16_fixed_content/model_20.ckpt 0.0006564645957615643\n",
      "check_points/refined_16_fixed_content/model_22.ckpt 0.0006643192734983232\n",
      "check_points/refined_16_fixed_content_cd_00001/model_21.ckpt 0.0005465193320479658\n",
      "check_points/refined_16_fixed_content_cd_00001/model_22.ckpt 0.000549472149461508\n",
      "check_points/refined_128_fixed_content/model_19.ckpt 0.000623256808353795\n",
      "check_points/refined_128_fixed_content/model_20.ckpt 0.0006585558412803543\n",
      "check_points/refined_128_fixed_content_cd_00001/model_20.ckpt 0.000666072299083074\n",
      "check_points/refined_128_fixed_content_cd_00001/model_21.ckpt 0.0006494673548473253\n",
      "check_points/refined_4_fixed_content/model_43.ckpt 0.0006128012372387779\n",
      "check_points/refined_4_fixed_content/model_44.ckpt 0.0005724085635609096\n",
      "check_points/refined_8_fixed_content/model_21.ckpt 0.0006086708183089893\n",
      "check_points/refined_8_fixed_content/model_22.ckpt 0.000628956698709064\n",
      "check_points/refined_16_fixed_content_style_norm_00001/model_9.ckpt 0.0009374264337950284\n",
      "check_points/refined_16_fixed_content_style_norm_00001/model_10.ckpt 0.00017654525343742636\n",
      "check_points/refined_128_fixed_content/model_41.ckpt 0.0006710198248426118\n",
      "check_points/refined_128_fixed_content/model_42.ckpt 0.0007589443210098482\n",
      "check_points/refined_256_fixed_content/model_31.ckpt 0.0005966435356272592\n",
      "check_points/refined_256_fixed_content/model_32.ckpt 0.0006075340194834602\n",
      "check_points/refined_4_fixed_content_cd_00001/model_25.ckpt 0.000556978986495071\n",
      "check_points/refined_4_fixed_content_cd_00001/model_26.ckpt 0.0006246264096763399\n",
      "check_points/refined_16_fixed_content_content_norm_00001/model_20.ckpt 0.0005420528050098154\n",
      "check_points/refined_16_fixed_content_content_norm_00001/model_21.ckpt 0.0005821466859843995\n",
      "check_points/refined_16_fixed_content_content_norm_000001/model_17.ckpt 0.0005499501431153881\n",
      "check_points/refined_16_fixed_content_content_norm_000001/model_18.ckpt 0.0005736426297161314\n"
     ]
    }
   ],
   "source": [
    "for m in content_loss_info.keys():\n",
    "    print(m, content_loss_info[m]['L1Loss'])"
   ]
  },
  {
   "cell_type": "code",
   "execution_count": 50,
   "metadata": {},
   "outputs": [],
   "source": [
    "target_models= [\n",
    "    'check_points/refined_4_fixed_content/model_44.ckpt',\n",
    "#     'check_points/refined_4_fixed_content_cd_00001/model_26.ckpt',\n",
    "#     'check_points/refined_8_fixed_content/model_21.ckpt',\n",
    "    'check_points/refined_16_fixed_content/model_20.ckpt',\n",
    "    'check_points/refined_16_fixed_content_cd_00001/model_22.ckpt',\n",
    "    'check_points/refined_16_fixed_content_style_norm_00001/model_10.ckpt',\n",
    "    'check_points/refined_16_fixed_content_content_norm_000001/model_18.ckpt',\n",
    "    'check_points/refined_128_fixed_content/model_19.ckpt',\n",
    "    'check_points/refined_128_fixed_content_cd_00001/model_20.ckpt',\n",
    "    'check_points/refined_256_fixed_content/model_31.ckpt',\n",
    "]\n",
    "\n",
    "# column = [os.path.dirname(model_path) for model_path in target_models]\n",
    "# column = [c.replace('check_points/refined_', '') for c in column]\n",
    "# column = [c.replace('_cd.*', '') + 'CD' if 'cd' in c else c for c in column ]\n",
    "# print(column)\n",
    "columns = ['4', '16', '16 with CD', '16 with style attraction', '16 with content attraction', '128', '128 with CD', '256']\n",
    "\n",
    "assert len(target_models) == len(columns)\n",
    "# index = ['L1 Loss', 'L2 Loss']\n",
    "index = ['L1 Loss',]\n",
    "\n",
    "data2 = [[content_loss_info[key]['L1Loss'] for key in target_models] for loss in ['L1Loss']]\n",
    "df = pd.DataFrame(data2, index=index, columns=columns)"
   ]
  },
  {
   "cell_type": "code",
   "execution_count": 64,
   "metadata": {},
   "outputs": [],
   "source": [
    "data3 = data1+ data2\n",
    "index = ['Reconstruction Loss', 'Content Space Loss']\n",
    "df = pd.DataFrame(data3, index=index, columns=columns)"
   ]
  },
  {
   "cell_type": "code",
   "execution_count": 65,
   "metadata": {},
   "outputs": [
    {
     "data": {
      "text/html": [
       "<div>\n",
       "<style scoped>\n",
       "    .dataframe tbody tr th:only-of-type {\n",
       "        vertical-align: middle;\n",
       "    }\n",
       "\n",
       "    .dataframe tbody tr th {\n",
       "        vertical-align: top;\n",
       "    }\n",
       "\n",
       "    .dataframe thead th {\n",
       "        text-align: right;\n",
       "    }\n",
       "</style>\n",
       "<table border=\"1\" class=\"dataframe\">\n",
       "  <thead>\n",
       "    <tr style=\"text-align: right;\">\n",
       "      <th></th>\n",
       "      <th>4</th>\n",
       "      <th>16</th>\n",
       "      <th>16 with CD</th>\n",
       "      <th>16 with style attraction</th>\n",
       "      <th>16 with content attraction</th>\n",
       "      <th>128</th>\n",
       "      <th>128 with CD</th>\n",
       "      <th>256</th>\n",
       "    </tr>\n",
       "  </thead>\n",
       "  <tbody>\n",
       "    <tr>\n",
       "      <th>Reconstruction Loss</th>\n",
       "      <td>0.288438</td>\n",
       "      <td>0.290618</td>\n",
       "      <td>0.289197</td>\n",
       "      <td>0.445092</td>\n",
       "      <td>0.354002</td>\n",
       "      <td>0.287032</td>\n",
       "      <td>0.289274</td>\n",
       "      <td>0.293694</td>\n",
       "    </tr>\n",
       "    <tr>\n",
       "      <th>Content Space Loss</th>\n",
       "      <td>0.000572</td>\n",
       "      <td>0.000656</td>\n",
       "      <td>0.000549</td>\n",
       "      <td>0.000177</td>\n",
       "      <td>0.000574</td>\n",
       "      <td>0.000623</td>\n",
       "      <td>0.000666</td>\n",
       "      <td>0.000597</td>\n",
       "    </tr>\n",
       "  </tbody>\n",
       "</table>\n",
       "</div>"
      ],
      "text/plain": [
       "                            4        16  16 with CD  16 with style attraction  \\\n",
       "Reconstruction Loss  0.288438  0.290618    0.289197                  0.445092   \n",
       "Content Space Loss   0.000572  0.000656    0.000549                  0.000177   \n",
       "\n",
       "                     16 with content attraction       128  128 with CD  \\\n",
       "Reconstruction Loss                    0.354002  0.287032     0.289274   \n",
       "Content Space Loss                     0.000574  0.000623     0.000666   \n",
       "\n",
       "                          256  \n",
       "Reconstruction Loss  0.293694  \n",
       "Content Space Loss   0.000597  "
      ]
     },
     "execution_count": 65,
     "metadata": {},
     "output_type": "execute_result"
    }
   ],
   "source": [
    "df"
   ]
  },
  {
   "cell_type": "code",
   "execution_count": null,
   "metadata": {},
   "outputs": [],
   "source": []
  }
 ],
 "metadata": {
  "kernelspec": {
   "display_name": "Python 3",
   "language": "python",
   "name": "python3"
  },
  "language_info": {
   "codemirror_mode": {
    "name": "ipython",
    "version": 3
   },
   "file_extension": ".py",
   "mimetype": "text/x-python",
   "name": "python",
   "nbconvert_exporter": "python",
   "pygments_lexer": "ipython3",
   "version": "3.7.3"
  }
 },
 "nbformat": 4,
 "nbformat_minor": 2
}
